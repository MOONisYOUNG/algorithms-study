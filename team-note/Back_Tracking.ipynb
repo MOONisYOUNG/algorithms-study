{
 "cells": [
  {
   "cell_type": "markdown",
   "id": "b01b1519",
   "metadata": {},
   "source": [
    "## 📌 백트래킹 (Backtracking)"
   ]
  },
  {
   "cell_type": "markdown",
   "id": "4675b301",
   "metadata": {},
   "source": [
    "* '백트래킹'은 한정 조건을 만족하는 모든 경우의 수를 탐색하는 기법이다.\n",
    "* 한정 조건을 만족하지 않는 경우는 제외하고 다음 케이스를 탐색한다.\n",
    "* DFS 기반으로 주로 구현한다.\n",
    "* 대표 예시로 '3X3 행렬 선택 게임'과 'N-Queen' 문제가 있다.\n",
    "* 하단의 코드는 '3X3 행렬 선택 게임'를 풀이한 코드이다."
   ]
  },
  {
   "cell_type": "markdown",
   "id": "668de648",
   "metadata": {},
   "source": [
    "### 📒 '3X3 행렬 선택 게임' 설명"
   ]
  },
  {
   "cell_type": "markdown",
   "id": "207efe5b",
   "metadata": {},
   "source": [
    "* '3X3 행렬 선택 게임'은 서로 다른 행렬 인덱스를 갖는 숫자들을 선택하는 게임이다. \n",
    "* 가능한 모든 해를 구한 후, 최솟값도 구해보도록 하자."
   ]
  },
  {
   "cell_type": "markdown",
   "id": "04d97e8e",
   "metadata": {},
   "source": [
    "### 👉 가능한 모든 해 찾기"
   ]
  },
  {
   "cell_type": "code",
   "execution_count": 1,
   "id": "6f4702e5",
   "metadata": {},
   "outputs": [
    {
     "name": "stdout",
     "output_type": "stream",
     "text": [
      "[10, 11, 12, 17, 8, 12]\n"
     ]
    }
   ],
   "source": [
    "import sys\n",
    "\n",
    "li = [[1,5,3],[2,4,7],[5,3,5]]\n",
    "chk = [False]*3\n",
    "m = sys.maxsize\n",
    "\n",
    "answers = []\n",
    "\n",
    "def backtracking(row, score):\n",
    "    global m\n",
    "    if row == 3: # 재귀함수를 마치는 조건\n",
    "        answers.append(score)\n",
    "        return \n",
    "    \n",
    "    for i in range(0,3):\n",
    "        if chk[i] == False: # 백트래킹에서의 한정조건\n",
    "            chk[i] = True\n",
    "            backtracking(row+1, score + li[row][i])\n",
    "            chk[i] = False\n",
    "\n",
    "backtracking(0,0)\n",
    "print(answers)"
   ]
  },
  {
   "cell_type": "markdown",
   "id": "c841c4c8",
   "metadata": {},
   "source": [
    "### 👉 제일 작은 해만 찾기"
   ]
  },
  {
   "cell_type": "code",
   "execution_count": 2,
   "id": "e135bf20",
   "metadata": {
    "scrolled": false
   },
   "outputs": [
    {
     "name": "stdout",
     "output_type": "stream",
     "text": [
      "8\n"
     ]
    }
   ],
   "source": [
    "import sys\n",
    "\n",
    "li = [[1,5,3],[2,4,7],[5,3,5]]\n",
    "chk = [False]*3\n",
    "min_sol = sys.maxsize\n",
    "\n",
    "def backtracking(row, score):\n",
    "    global min_sol\n",
    "    if row == 3: # 재귀함수를 마치는 조건\n",
    "        if score < min_sol:\n",
    "            min_sol = score\n",
    "        return \n",
    "    \n",
    "    for i in range(0,3):\n",
    "        if chk[i] == False: # 백트래킹에서의 한정조건\n",
    "            chk[i] = True\n",
    "            backtracking(row+1, score + li[row][i])\n",
    "            chk[i] = False\n",
    "\n",
    "backtracking(0,0)\n",
    "print(min_sol)"
   ]
  }
 ],
 "metadata": {
  "kernelspec": {
   "display_name": "Python 3 (ipykernel)",
   "language": "python",
   "name": "python3"
  },
  "language_info": {
   "codemirror_mode": {
    "name": "ipython",
    "version": 3
   },
   "file_extension": ".py",
   "mimetype": "text/x-python",
   "name": "python",
   "nbconvert_exporter": "python",
   "pygments_lexer": "ipython3",
   "version": "3.10.9"
  }
 },
 "nbformat": 4,
 "nbformat_minor": 5
}
